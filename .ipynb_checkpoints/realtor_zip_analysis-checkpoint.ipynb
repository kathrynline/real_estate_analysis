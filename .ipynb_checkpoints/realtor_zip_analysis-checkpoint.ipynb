{
 "cells": [
  {
   "cell_type": "code",
   "execution_count": 79,
   "metadata": {},
   "outputs": [
    {
     "name": "stdout",
     "output_type": "stream",
     "text": [
      "Requirement already satisfied: plotly in ./anaconda3/lib/python3.6/site-packages\r\n",
      "Requirement already satisfied: pytz in ./anaconda3/lib/python3.6/site-packages (from plotly)\r\n",
      "Requirement already satisfied: six in ./anaconda3/lib/python3.6/site-packages (from plotly)\r\n",
      "Requirement already satisfied: requests in ./anaconda3/lib/python3.6/site-packages (from plotly)\r\n",
      "Requirement already satisfied: decorator>=4.0.6 in ./anaconda3/lib/python3.6/site-packages (from plotly)\r\n",
      "Requirement already satisfied: nbformat>=4.2 in ./anaconda3/lib/python3.6/site-packages (from plotly)\r\n",
      "Requirement already satisfied: chardet<3.1.0,>=3.0.2 in ./anaconda3/lib/python3.6/site-packages (from requests->plotly)\r\n",
      "Requirement already satisfied: idna<2.7,>=2.5 in ./anaconda3/lib/python3.6/site-packages (from requests->plotly)\r\n",
      "Requirement already satisfied: urllib3<1.23,>=1.21.1 in ./anaconda3/lib/python3.6/site-packages (from requests->plotly)\r\n",
      "Requirement already satisfied: certifi>=2017.4.17 in ./anaconda3/lib/python3.6/site-packages (from requests->plotly)\r\n",
      "Requirement already satisfied: ipython_genutils in ./anaconda3/lib/python3.6/site-packages (from nbformat>=4.2->plotly)\r\n",
      "Requirement already satisfied: traitlets>=4.1 in ./anaconda3/lib/python3.6/site-packages (from nbformat>=4.2->plotly)\r\n",
      "Requirement already satisfied: jsonschema!=2.5.0,>=2.4 in ./anaconda3/lib/python3.6/site-packages (from nbformat>=4.2->plotly)\r\n",
      "Requirement already satisfied: jupyter_core in ./anaconda3/lib/python3.6/site-packages (from nbformat>=4.2->plotly)\r\n",
      "\u001b[33mYou are using pip version 9.0.1, however version 10.0.1 is available.\r\n",
      "You should consider upgrading via the 'pip install --upgrade pip' command.\u001b[0m\r\n"
     ]
    }
   ],
   "source": [
    "!pip install plotly"
   ]
  },
  {
   "cell_type": "code",
   "execution_count": 1,
   "metadata": {
    "collapsed": true
   },
   "outputs": [],
   "source": [
    "import sklearn\n",
    "import pandas as pd \n",
    "import plotly\n",
    "plotly.tools.set_credentials_file(username='eklinebarg', api_key='CgHG7o0WQdDb15sMnfvM')\n",
    "import plotly.plotly as py\n",
    "import plotly.graph_objs as go"
   ]
  },
  {
   "cell_type": "code",
   "execution_count": 2,
   "metadata": {},
   "outputs": [
    {
     "data": {
      "text/plain": [
       "(14999, 35)"
      ]
     },
     "execution_count": 2,
     "metadata": {},
     "output_type": "execute_result"
    }
   ],
   "source": [
    "df = pd.read_csv('/Users/emilylinebarger/Downloads/RDC_InventoryCoreMetrics_Zip_sfh.csv')\n",
    "df.shape\n"
   ]
  },
  {
   "cell_type": "code",
   "execution_count": 3,
   "metadata": {
    "collapsed": true
   },
   "outputs": [],
   "source": [
    "criteria1 = df['ZipCode']>=90000 \n",
    "criteria2 = df['ZipCode']<=93600\n",
    "criteria_all = criteria1 & criteria2"
   ]
  },
  {
   "cell_type": "code",
   "execution_count": 4,
   "metadata": {},
   "outputs": [
    {
     "data": {
      "text/html": [
       "<div>\n",
       "<style>\n",
       "    .dataframe thead tr:only-child th {\n",
       "        text-align: right;\n",
       "    }\n",
       "\n",
       "    .dataframe thead th {\n",
       "        text-align: left;\n",
       "    }\n",
       "\n",
       "    .dataframe tbody tr th {\n",
       "        vertical-align: top;\n",
       "    }\n",
       "</style>\n",
       "<table border=\"1\" class=\"dataframe\">\n",
       "  <thead>\n",
       "    <tr style=\"text-align: right;\">\n",
       "      <th></th>\n",
       "      <th>Month</th>\n",
       "      <th>ZipCode</th>\n",
       "      <th>ZipName</th>\n",
       "      <th>Property Type</th>\n",
       "      <th>Footnote</th>\n",
       "      <th>Median Listing Price</th>\n",
       "      <th>Median Listing Price M/M</th>\n",
       "      <th>Median Listing Price Y/Y</th>\n",
       "      <th>Active Listing Count</th>\n",
       "      <th>Active Listing Count M/M</th>\n",
       "      <th>...</th>\n",
       "      <th>Pending Listing Count Y/Y</th>\n",
       "      <th>Avg Listing Price</th>\n",
       "      <th>Avg Listing Price M/M</th>\n",
       "      <th>Avg Listing Price Y/Y</th>\n",
       "      <th>Total Listing Count</th>\n",
       "      <th>Total Listing Count M/M</th>\n",
       "      <th>Total Listing Count Y/Y</th>\n",
       "      <th>Pending Ratio</th>\n",
       "      <th>Pending Ratio M/M</th>\n",
       "      <th>Pending Ratio Y/Y</th>\n",
       "    </tr>\n",
       "  </thead>\n",
       "  <tbody>\n",
       "    <tr>\n",
       "      <th>13370</th>\n",
       "      <td>201805</td>\n",
       "      <td>90001.0</td>\n",
       "      <td>Los Angeles, CA</td>\n",
       "      <td>Single Family Home</td>\n",
       "      <td>NaN</td>\n",
       "      <td>402550.0</td>\n",
       "      <td>0.0347</td>\n",
       "      <td>0.1668</td>\n",
       "      <td>41.5</td>\n",
       "      <td>0.2969</td>\n",
       "      <td>...</td>\n",
       "      <td>0.4286</td>\n",
       "      <td>426896.0</td>\n",
       "      <td>0.0221</td>\n",
       "      <td>0.1999</td>\n",
       "      <td>46.5</td>\n",
       "      <td>0.2237</td>\n",
       "      <td>-0.0882</td>\n",
       "      <td>0.1205</td>\n",
       "      <td>-0.0670</td>\n",
       "      <td>0.0468</td>\n",
       "    </tr>\n",
       "    <tr>\n",
       "      <th>13371</th>\n",
       "      <td>201805</td>\n",
       "      <td>90002.0</td>\n",
       "      <td>Los Angeles, CA</td>\n",
       "      <td>Single Family Home</td>\n",
       "      <td>NaN</td>\n",
       "      <td>376525.0</td>\n",
       "      <td>0.0042</td>\n",
       "      <td>0.0874</td>\n",
       "      <td>59.5</td>\n",
       "      <td>-0.0703</td>\n",
       "      <td>...</td>\n",
       "      <td>0.2000</td>\n",
       "      <td>372388.0</td>\n",
       "      <td>0.0097</td>\n",
       "      <td>0.1225</td>\n",
       "      <td>65.5</td>\n",
       "      <td>-0.2202</td>\n",
       "      <td>-0.1603</td>\n",
       "      <td>0.1008</td>\n",
       "      <td>-0.2117</td>\n",
       "      <td>0.0323</td>\n",
       "    </tr>\n",
       "    <tr>\n",
       "      <th>13372</th>\n",
       "      <td>201805</td>\n",
       "      <td>90003.0</td>\n",
       "      <td>Los Angeles, CA</td>\n",
       "      <td>Single Family Home</td>\n",
       "      <td>*</td>\n",
       "      <td>400800.0</td>\n",
       "      <td>0.0546</td>\n",
       "      <td>NaN</td>\n",
       "      <td>25.5</td>\n",
       "      <td>-0.0556</td>\n",
       "      <td>...</td>\n",
       "      <td>0.4000</td>\n",
       "      <td>399639.0</td>\n",
       "      <td>0.0639</td>\n",
       "      <td>0.0953</td>\n",
       "      <td>32.5</td>\n",
       "      <td>-0.2073</td>\n",
       "      <td>-0.3367</td>\n",
       "      <td>0.2745</td>\n",
       "      <td>-0.2440</td>\n",
       "      <td>0.1609</td>\n",
       "    </tr>\n",
       "    <tr>\n",
       "      <th>13373</th>\n",
       "      <td>201805</td>\n",
       "      <td>90004.0</td>\n",
       "      <td>Los Angeles, CA</td>\n",
       "      <td>Single Family Home</td>\n",
       "      <td>NaN</td>\n",
       "      <td>1420050.0</td>\n",
       "      <td>-0.0527</td>\n",
       "      <td>-0.0517</td>\n",
       "      <td>45.0</td>\n",
       "      <td>0.0227</td>\n",
       "      <td>...</td>\n",
       "      <td>0.1250</td>\n",
       "      <td>2314338.0</td>\n",
       "      <td>0.0557</td>\n",
       "      <td>0.0983</td>\n",
       "      <td>54.0</td>\n",
       "      <td>0.0385</td>\n",
       "      <td>-0.0609</td>\n",
       "      <td>0.2000</td>\n",
       "      <td>0.0182</td>\n",
       "      <td>0.0384</td>\n",
       "    </tr>\n",
       "    <tr>\n",
       "      <th>13374</th>\n",
       "      <td>201805</td>\n",
       "      <td>90005.0</td>\n",
       "      <td>Los Angeles, CA</td>\n",
       "      <td>Single Family Home</td>\n",
       "      <td>NaN</td>\n",
       "      <td>2055050.0</td>\n",
       "      <td>-0.2396</td>\n",
       "      <td>0.4056</td>\n",
       "      <td>12.5</td>\n",
       "      <td>-0.1071</td>\n",
       "      <td>...</td>\n",
       "      <td>1.2500</td>\n",
       "      <td>3749029.0</td>\n",
       "      <td>-0.0361</td>\n",
       "      <td>0.3056</td>\n",
       "      <td>17.0</td>\n",
       "      <td>0.0000</td>\n",
       "      <td>0.0625</td>\n",
       "      <td>0.3600</td>\n",
       "      <td>0.1457</td>\n",
       "      <td>0.2171</td>\n",
       "    </tr>\n",
       "  </tbody>\n",
       "</table>\n",
       "<p>5 rows × 35 columns</p>\n",
       "</div>"
      ],
      "text/plain": [
       "        Month  ZipCode          ZipName       Property Type Footnote  \\\n",
       "13370  201805  90001.0  Los Angeles, CA  Single Family Home      NaN   \n",
       "13371  201805  90002.0  Los Angeles, CA  Single Family Home      NaN   \n",
       "13372  201805  90003.0  Los Angeles, CA  Single Family Home        *   \n",
       "13373  201805  90004.0  Los Angeles, CA  Single Family Home      NaN   \n",
       "13374  201805  90005.0  Los Angeles, CA  Single Family Home      NaN   \n",
       "\n",
       "       Median Listing Price  Median Listing Price M/M  \\\n",
       "13370              402550.0                    0.0347   \n",
       "13371              376525.0                    0.0042   \n",
       "13372              400800.0                    0.0546   \n",
       "13373             1420050.0                   -0.0527   \n",
       "13374             2055050.0                   -0.2396   \n",
       "\n",
       "       Median Listing Price Y/Y  Active Listing Count   \\\n",
       "13370                    0.1668                   41.5   \n",
       "13371                    0.0874                   59.5   \n",
       "13372                       NaN                   25.5   \n",
       "13373                   -0.0517                   45.0   \n",
       "13374                    0.4056                   12.5   \n",
       "\n",
       "       Active Listing Count M/M        ...          Pending Listing Count Y/Y  \\\n",
       "13370                    0.2969        ...                             0.4286   \n",
       "13371                   -0.0703        ...                             0.2000   \n",
       "13372                   -0.0556        ...                             0.4000   \n",
       "13373                    0.0227        ...                             0.1250   \n",
       "13374                   -0.1071        ...                             1.2500   \n",
       "\n",
       "       Avg Listing Price  Avg Listing Price M/M  Avg Listing Price Y/Y  \\\n",
       "13370           426896.0                 0.0221                 0.1999   \n",
       "13371           372388.0                 0.0097                 0.1225   \n",
       "13372           399639.0                 0.0639                 0.0953   \n",
       "13373          2314338.0                 0.0557                 0.0983   \n",
       "13374          3749029.0                -0.0361                 0.3056   \n",
       "\n",
       "       Total Listing Count  Total Listing Count M/M  Total Listing Count Y/Y  \\\n",
       "13370                 46.5                   0.2237                  -0.0882   \n",
       "13371                 65.5                  -0.2202                  -0.1603   \n",
       "13372                 32.5                  -0.2073                  -0.3367   \n",
       "13373                 54.0                   0.0385                  -0.0609   \n",
       "13374                 17.0                   0.0000                   0.0625   \n",
       "\n",
       "       Pending Ratio  Pending Ratio M/M  Pending Ratio Y/Y  \n",
       "13370         0.1205            -0.0670             0.0468  \n",
       "13371         0.1008            -0.2117             0.0323  \n",
       "13372         0.2745            -0.2440             0.1609  \n",
       "13373         0.2000             0.0182             0.0384  \n",
       "13374         0.3600             0.1457             0.2171  \n",
       "\n",
       "[5 rows x 35 columns]"
      ]
     },
     "execution_count": 4,
     "metadata": {},
     "output_type": "execute_result"
    }
   ],
   "source": [
    "df.ca = df[criteria_all]\n",
    "df.ca.head()"
   ]
  },
  {
   "cell_type": "code",
   "execution_count": 5,
   "metadata": {},
   "outputs": [
    {
     "data": {
      "text/plain": [
       "(611, 35)"
      ]
     },
     "execution_count": 5,
     "metadata": {},
     "output_type": "execute_result"
    }
   ],
   "source": [
    "df.ca.shape"
   ]
  },
  {
   "cell_type": "code",
   "execution_count": 6,
   "metadata": {
    "collapsed": true
   },
   "outputs": [],
   "source": [
    "ca_zip = df.ca['ZipCode']\n",
    "ca_medprice = df.ca['Median Listing Price']"
   ]
  },
  {
   "cell_type": "code",
   "execution_count": 7,
   "metadata": {},
   "outputs": [
    {
     "data": {
      "text/plain": [
       "13370    90001.0\n",
       "13371    90002.0\n",
       "13372    90003.0\n",
       "13373    90004.0\n",
       "13374    90005.0\n",
       "Name: ZipCode, dtype: float64"
      ]
     },
     "execution_count": 7,
     "metadata": {},
     "output_type": "execute_result"
    }
   ],
   "source": [
    "ca_zip.head()"
   ]
  },
  {
   "cell_type": "code",
   "execution_count": 8,
   "metadata": {},
   "outputs": [
    {
     "data": {
      "text/plain": [
       "13370     402550.0\n",
       "13371     376525.0\n",
       "13372     400800.0\n",
       "13373    1420050.0\n",
       "13374    2055050.0\n",
       "Name: Median Listing Price, dtype: float64"
      ]
     },
     "execution_count": 8,
     "metadata": {},
     "output_type": "execute_result"
    }
   ],
   "source": [
    "ca_medprice.head()"
   ]
  },
  {
   "cell_type": "code",
   "execution_count": 9,
   "metadata": {},
   "outputs": [
    {
     "data": {
      "text/html": [
       "<iframe id=\"igraph\" scrolling=\"no\" style=\"border:none;\" seamless=\"seamless\" src=\"https://plot.ly/~eklinebarg/6.embed\" height=\"525px\" width=\"100%\"></iframe>"
      ],
      "text/plain": [
       "<plotly.tools.PlotlyDisplay object>"
      ]
     },
     "execution_count": 9,
     "metadata": {},
     "output_type": "execute_result"
    }
   ],
   "source": [
    "# Make a Bar trace object\n",
    "trace1 = go.Bar(\n",
    "    x=ca_zip,  # a list of string as x-coords\n",
    "    y=ca_medprice,   # 1d array of numbers as y-coords\n",
    "    )\n",
    "\n",
    "# Make Data object\n",
    "data = go.Data([trace1])\n",
    "\n",
    "title = \"Map of median home price by zip code in CA\"  # plot's title\n",
    "\n",
    "# Make Layout object\n",
    "layout = go.Layout(\n",
    "    title=title,       # set plot title\n",
    "    showlegend=False,  # remove legend\n",
    "    )\n",
    "\n",
    "# Make Figure object\n",
    "fig = go.Figure(data=data, layout=layout)\n",
    "\n",
    "# (@) Send to Plotly and show in notebook\n",
    "py.iplot(fig)\n"
   ]
  },
  {
   "cell_type": "code",
   "execution_count": null,
   "metadata": {
    "collapsed": true
   },
   "outputs": [],
   "source": []
  }
 ],
 "metadata": {
  "kernelspec": {
   "display_name": "Python 3",
   "language": "python",
   "name": "python3"
  },
  "language_info": {
   "codemirror_mode": {
    "name": "ipython",
    "version": 3
   },
   "file_extension": ".py",
   "mimetype": "text/x-python",
   "name": "python",
   "nbconvert_exporter": "python",
   "pygments_lexer": "ipython3",
   "version": "3.6.3"
  }
 },
 "nbformat": 4,
 "nbformat_minor": 2
}
